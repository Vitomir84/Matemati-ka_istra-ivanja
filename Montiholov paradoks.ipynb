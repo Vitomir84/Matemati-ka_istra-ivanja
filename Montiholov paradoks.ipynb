{
 "cells": [
  {
   "cell_type": "markdown",
   "id": "c3779a3e",
   "metadata": {},
   "source": [
    "## Montiholov paradoks\n",
    "Tri vrata, jedan ferari i dve koze. Igrač u studiju bira jedna vrata. Voditelj pita: da li se sada isplati promeniti prvu odluku i pokazuje da je ispitanik izabrao prazna vrata. Simulacija ovog rešenja."
   ]
  },
  {
   "cell_type": "code",
   "execution_count": 6,
   "id": "a2698307",
   "metadata": {},
   "outputs": [],
   "source": [
    "import random\n",
    "def koze_ferari(broj_pokusaja):\n",
    "    \n",
    "    vrata  = ['ferari', 'koza', 'koza']\n",
    "\n",
    "    count_bez_promene = 0\n",
    "    count_trebalo_je_promeniti = 0\n",
    "\n",
    "    for i in range(broj_pokusaja):\n",
    "        vrata  = ['ferari', 'koza', 'koza']\n",
    "        prvi_izbor = random.choice(vrata)\n",
    "        prvi_izbori.append(prvi_izbor)\n",
    "    \n",
    "        vrata.remove(random.choice(vrata))\n",
    "    \n",
    "        drugi_izbor = random.choice(vrata)\n",
    "        if prvi_izbor == 'ferari' and prvi_izbor == drugi_izbor:\n",
    "            count_bez_promene +=1\n",
    "        else:\n",
    "            count_trebalo_je_promeniti +=1 \n",
    "\n",
    "    print(f'nije trebalo menjati u {broj_pokusaja} pokusaja:', (count_bez_promene/broj_pokusaja)*100, '% slucajeva')\n",
    "    print(f'trebalo je menjati prvi izbor u {broj_pokusaja} pokusaja:', (count_trebalo_je_promeniti/broj_pokusaja)*100, '% slucajeva')\n",
    "    print(40*'==')\n",
    "    return (count_trebalo_je_promeniti/broj_pokusaja)*100\n"
   ]
  },
  {
   "cell_type": "code",
   "execution_count": 9,
   "id": "27ca5069",
   "metadata": {},
   "outputs": [
    {
     "name": "stdout",
     "output_type": "stream",
     "text": [
      "nije trebalo menjati u 1 pokusaja: 0.0 % slucajeva\n",
      "trebalo je menjati prvi izbor u 1 pokusaja: 100.0 % slucajeva\n",
      "================================================================================\n",
      "nije trebalo menjati u 12 pokusaja: 8.333333333333332 % slucajeva\n",
      "trebalo je menjati prvi izbor u 12 pokusaja: 91.66666666666666 % slucajeva\n",
      "================================================================================\n",
      "nije trebalo menjati u 18 pokusaja: 11.11111111111111 % slucajeva\n",
      "trebalo je menjati prvi izbor u 18 pokusaja: 88.88888888888889 % slucajeva\n",
      "================================================================================\n",
      "nije trebalo menjati u 48 pokusaja: 18.75 % slucajeva\n",
      "trebalo je menjati prvi izbor u 48 pokusaja: 81.25 % slucajeva\n",
      "================================================================================\n",
      "nije trebalo menjati u 100 pokusaja: 9.0 % slucajeva\n",
      "trebalo je menjati prvi izbor u 100 pokusaja: 91.0 % slucajeva\n",
      "================================================================================\n",
      "nije trebalo menjati u 200 pokusaja: 8.5 % slucajeva\n",
      "trebalo je menjati prvi izbor u 200 pokusaja: 91.5 % slucajeva\n",
      "================================================================================\n",
      "nije trebalo menjati u 500 pokusaja: 10.2 % slucajeva\n",
      "trebalo je menjati prvi izbor u 500 pokusaja: 89.8 % slucajeva\n",
      "================================================================================\n",
      "nije trebalo menjati u 10000 pokusaja: 11.58 % slucajeva\n",
      "trebalo je menjati prvi izbor u 10000 pokusaja: 88.42 % slucajeva\n",
      "================================================================================\n"
     ]
    },
    {
     "data": {
      "text/plain": [
       "Text(0, 0.5, 'Procenat koliko je puta trebalo promeniti vrata u drugom pokušaju')"
      ]
     },
     "execution_count": 9,
     "metadata": {},
     "output_type": "execute_result"
    },
    {
     "data": {
      "image/png": "[encoded data removed]",
      "text/plain": [
       "<Figure size 576x576 with 1 Axes>"
      ]
     },
     "metadata": {
      "needs_background": "light"
     },
     "output_type": "display_data"
    }
   ],
   "source": [
    "import matplotlib.pyplot as plt\n",
    "\n",
    "broj_pokusaja = [1,12,18,48,100,200,500,10000]\n",
    "rezultati = []\n",
    "for i in broj_pokusaja:\n",
    "    rezultat = koze_ferari(i)\n",
    "    rezultati.append(rezultat)\n",
    "    \n",
    "import matplotlib.pyplot as plt\n",
    "\n",
    "plt.figure(figsize=(8,8))\n",
    "plt.plot(broj_pokusaja, rezultati)\n",
    "plt.xlabel('Broj pokusaja')\n",
    "plt.ylabel('Procenat koliko je puta trebalo promeniti vrata u drugom pokušaju')"
   ]
  }
 ],
 "metadata": {
  "kernelspec": {
   "display_name": "Python 3",
   "language": "python",
   "name": "python3"
  },
  "language_info": {
   "codemirror_mode": {
    "name": "ipython",
    "version": 3
   },
   "file_extension": ".py",
   "mimetype": "text/x-python",
   "name": "python",
   "nbconvert_exporter": "python",
   "pygments_lexer": "ipython3",
   "version": "3.8.5"
  }
 },
 "nbformat": 4,
 "nbformat_minor": 5
}
