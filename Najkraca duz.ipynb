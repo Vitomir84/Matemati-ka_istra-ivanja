{
 "cells": [
  {
   "cell_type": "markdown",
   "id": "e4d07d2c",
   "metadata": {},
   "source": [
    "### Najkraća putanja\n",
    "Nakon plotovanja tačaka kreiramo funkcije za brute force i optimizovani način za pronalaženje najkraće duži."
   ]
  },
  {
   "cell_type": "code",
   "execution_count": 19,
   "id": "aab4011a",
   "metadata": {},
   "outputs": [],
   "source": [
    "import numpy as np\n",
    "import matplotlib.pyplot as plt\n",
    "\n",
    "np.random.seed(2021)\n",
    "def generacija_tacaka(n, plotting=True):\n",
    "    '''n-broj tacaka'''\n",
    "    koordinate_x = np.random.randint(1,100,n)\n",
    "    koordinate_y = np.random.randint(1,100,n)\n",
    "    tacke = []\n",
    "    for x,y in zip(koordinate_x,koordinate_y):\n",
    "        tacke.append((x,y))\n",
    "    if plotting:\n",
    "        plt.figure(figsize=(8,8))\n",
    "        plt.scatter(koordinate_x,koordinate_y, s=5)\n",
    "        plt.title('Nasumične tačke u koordinatnom sistemu (0,100)')\n",
    "        plt.xlabel('x')\n",
    "        plt.ylabel('y');\n",
    "    return tacke"
   ]
  },
  {
   "cell_type": "code",
   "execution_count": 20,
   "id": "728142fd",
   "metadata": {
    "scrolled": true
   },
   "outputs": [
    {
     "data": {
      "image/png": "[encoded data removed]",
      "text/plain": [
       "<Figure size 576x576 with 1 Axes>"
      ]
     },
     "metadata": {
      "needs_background": "light"
     },
     "output_type": "display_data"
    }
   ],
   "source": [
    "tacke = generacija_tacaka(100)"
   ]
  },
  {
   "cell_type": "code",
   "execution_count": 8,
   "id": "a3c1835d",
   "metadata": {},
   "outputs": [],
   "source": [
    "from itertools import combinations\n",
    "\n",
    "def povuci_sve_duzi(tacke):\n",
    "    sve_duzi = []\n",
    "    for duz in combinations(tacke,2):\n",
    "        sve_duzi.append(duz)\n",
    "#     print(f'povučeno duži: {len(sve_duzi)}')\n",
    "    return sve_duzi"
   ]
  },
  {
   "cell_type": "code",
   "execution_count": 7,
   "id": "fb30cb88",
   "metadata": {},
   "outputs": [],
   "source": [
    "def izracunaj_najkracu_duz(sve_duzi):\n",
    "    \n",
    "    izracunate_duzi = dict()\n",
    "    for index in range(len(sve_duzi)):\n",
    "        x,y = sve_duzi[index]\n",
    "        izracunate_duzi[index] = []\n",
    "        x_diff = x[0]-x[1]\n",
    "        y_diff = y[0]-y[1]\n",
    "        izracunate_duzi[index].append((x_diff**2+y_diff**2)**0.5)\n",
    "    \n",
    "    minimum = min(izracunate_duzi.values())\n",
    "    \n",
    "    for key, value in izracunate_duzi.items():\n",
    "        if value==minimum:\n",
    "            return sve_duzi[key], value"
   ]
  },
  {
   "cell_type": "code",
   "execution_count": 21,
   "id": "f7e454cf",
   "metadata": {},
   "outputs": [
    {
     "name": "stdout",
     "output_type": "stream",
     "text": [
      "Tacke najkrace duzi: ((13, 12), (54, 55))\n",
      "Duzina najkrace duzi 1.4142135623730951\n"
     ]
    }
   ],
   "source": [
    "sve_duzi = povuci_sve_duzi(tacke)\n",
    "tacke_najkrace_duzi, duz =izracunaj_najkracu_duz(sve_duzi)\n",
    "print('Tacke najkrace duzi:', tacke_najkrace_duzi)\n",
    "print('Duzina najkrace duzi', duz[0])"
   ]
  },
  {
   "cell_type": "code",
   "execution_count": 28,
   "id": "30f27034",
   "metadata": {},
   "outputs": [],
   "source": [
    "np.random.seed(2021)\n",
    "tacke_najkrace_duzi=tacke_najkrace_duzi\n",
    "def plotovanje_tacaka_najkrace_duzi(n, tacke_najkrace_duzi=tacke_najkrace_duzi, plotting=True):\n",
    "    '''n-broj tacaka'''\n",
    "    koordinate_x = np.random.randint(1,100,n)\n",
    "    koordinate_y = np.random.randint(1,100,n)\n",
    "    tacke = []\n",
    "    for x,y in zip(koordinate_x,koordinate_y):\n",
    "        tacke.append((x,y))\n",
    "    if plotting:\n",
    "        plt.figure(figsize=(8,8))\n",
    "        plt.scatter(koordinate_x,koordinate_y, s=5)\n",
    "        plt.scatter(tacke_najkrace_duzi[0], tacke_najkrace_duzi[1], c='red', label='najbliže tačke', s=10)\n",
    "        plt.title('Nasumične tačke u koordinatnom sistemu (0,100)')\n",
    "        plt.xlabel('x')\n",
    "        plt.ylabel('y')\n",
    "        plt.legend();\n",
    "    return tacke"
   ]
  },
  {
   "cell_type": "code",
   "execution_count": 29,
   "id": "a22f7d0b",
   "metadata": {
    "scrolled": true
   },
   "outputs": [
    {
     "data": {
      "image/png": "[encoded data removed]",
      "text/plain": [
       "<Figure size 576x576 with 1 Axes>"
      ]
     },
     "metadata": {
      "needs_background": "light"
     },
     "output_type": "display_data"
    }
   ],
   "source": [
    "tacke = plotovanje_tacaka_najkrace_duzi(100)"
   ]
  },
  {
   "cell_type": "markdown",
   "id": "4750963f",
   "metadata": {},
   "source": [
    "### Optimizacija"
   ]
  },
  {
   "cell_type": "code",
   "execution_count": 30,
   "id": "bc0797d1",
   "metadata": {},
   "outputs": [],
   "source": [
    "def distance(p1,p2):\n",
    "    xdiff = p1[0]-p2[0]\n",
    "    ydiff=p1[0]-p2[0]\n",
    "    return (xdiff**2+ydiff**2)**0.5"
   ]
  },
  {
   "cell_type": "code",
   "execution_count": 32,
   "id": "9f99e93a",
   "metadata": {},
   "outputs": [],
   "source": [
    "def bruteforce(points):\n",
    "    return min(\n",
    "        (distance(*pairing), pairing)\n",
    "        for pairing in combinations(points,2))"
   ]
  },
  {
   "cell_type": "code",
   "execution_count": 48,
   "id": "c41cd6d4",
   "metadata": {},
   "outputs": [],
   "source": [
    "def mindistance(tacke):\n",
    "    duzina = len(tacke)\n",
    "    if duzina <5:\n",
    "        return bruteforce(tacke)\n",
    "    \n",
    "    leve_tacke = tacke[:duzina//2]\n",
    "    desne_tacke = tacke[duzina//2:]\n",
    "    \n",
    "    najkraca_u_levim = mindistance(leve_tacke)\n",
    "    najkraca_u_desnim = mindistance(desne_tacke)\n",
    "    \n",
    "#     print(40*'==')\n",
    "    \n",
    "#     print('najkraca_u_levim:', najkraca_u_levim)\n",
    "#     print('najkraca_u_desnim:', najkraca_u_desnim)\n",
    "    \n",
    "    d = min(najkraca_u_levim, najkraca_u_desnim)[0]\n",
    "    \n",
    "#     print('d', min(najkraca_u_levim, najkraca_u_desnim), 'd[0]', d)\n",
    "    \n",
    "#     print(40*'==')\n",
    "    \n",
    "    limit_right=[tacka for tacka in desne_tacke if abs(tacka[0]- desne_tacke[0][0]) <= d]\n",
    "    \n",
    "    limit_left= [tacka for tacka in leve_tacke if abs(tacka[0] - leve_tacke[-1][0])<=d]\n",
    "   \n",
    "    distances =[najkraca_u_levim, najkraca_u_desnim]\n",
    "    for x in limit_left:\n",
    "        for y in limit_right:\n",
    "            distances.append((distance(x,y), (x,y)))\n",
    "    return min(distances)"
   ]
  },
  {
   "cell_type": "code",
   "execution_count": 46,
   "id": "8107bb75",
   "metadata": {},
   "outputs": [
    {
     "name": "stdout",
     "output_type": "stream",
     "text": [
      "potrebno vreme za brute force: 0.022 sekunde\n"
     ]
    }
   ],
   "source": [
    "import time\n",
    "start = time.monotonic()\n",
    "sve_duzi = povuci_sve_duzi(tacke)\n",
    "najkraca_duz1 = izracunaj_najkracu_duz(sve_duzi)\n",
    "end = time.monotonic()\n",
    "print('potrebno vreme za brute force:', round(end-start,3), 'sekunde')"
   ]
  },
  {
   "cell_type": "code",
   "execution_count": 50,
   "id": "1ff45368",
   "metadata": {},
   "outputs": [
    {
     "name": "stdout",
     "output_type": "stream",
     "text": [
      "potrebno vreme za optimizovani search: 0.0022 sekunde\n"
     ]
    }
   ],
   "source": [
    "start = time.monotonic()\n",
    "najkraca_optimizovana = mindistance(tacke)\n",
    "end = time.monotonic()\n",
    "print('potrebno vreme za optimizovani search:', round(end-start,4), 'sekunde')"
   ]
  }
 ],
 "metadata": {
  "kernelspec": {
   "display_name": "Python 3",
   "language": "python",
   "name": "python3"
  },
  "language_info": {
   "codemirror_mode": {
    "name": "ipython",
    "version": 3
   },
   "file_extension": ".py",
   "mimetype": "text/x-python",
   "name": "python",
   "nbconvert_exporter": "python",
   "pygments_lexer": "ipython3",
   "version": "3.8.5"
  }
 },
 "nbformat": 4,
 "nbformat_minor": 5
}
