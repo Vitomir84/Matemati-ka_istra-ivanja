{
 "cells": [
  {
   "cell_type": "markdown",
   "id": "521047ca",
   "metadata": {},
   "source": [
    "# Verovatnoća da dvoje iz grupe ljudi veličine n ima rođendan istog datuma\n",
    "Treba da proverimo koja je verovatnoća da su od k osoba barem 2 osobe rodjene istog datuma u toku godine. Rešenje simulacijom treba da konvergira ka teorijskom rešenju kako se povećava broj iteracija."
   ]
  },
  {
   "cell_type": "code",
   "execution_count": 17,
   "id": "2086f63f",
   "metadata": {},
   "outputs": [],
   "source": [
    "import math\n",
    "import numpy as np\n",
    "import random\n",
    "import matplotlib.pyplot as plt\n",
    "\n",
    "\n",
    "def verovatnoca_za_n_ljudi(n):\n",
    "    P = 1-(math.factorial(365)/(math.factorial(365-n)*365**n))\n",
    "    return P*100"
   ]
  },
  {
   "cell_type": "code",
   "execution_count": 2,
   "id": "3dd03aef",
   "metadata": {},
   "outputs": [
    {
     "data": {
      "text/plain": [
       "0.2739726027397249"
      ]
     },
     "execution_count": 2,
     "metadata": {},
     "output_type": "execute_result"
    }
   ],
   "source": [
    "n=2 # verovatnoca za dvoje ljudi u %\n",
    "verovatnoca_za_n_ljudi(2)"
   ]
  },
  {
   "cell_type": "code",
   "execution_count": 3,
   "id": "09bf3dd3",
   "metadata": {},
   "outputs": [
    {
     "data": {
      "text/plain": [
       "0.8204165884781345"
      ]
     },
     "execution_count": 3,
     "metadata": {},
     "output_type": "execute_result"
    }
   ],
   "source": [
    "# verovatnoca za dvoje ljudi u %\n",
    "verovatnoca_za_n_ljudi(3)"
   ]
  },
  {
   "cell_type": "markdown",
   "id": "8714274f",
   "metadata": {},
   "source": [
    "### Rešenje simulacijom"
   ]
  },
  {
   "cell_type": "code",
   "execution_count": 5,
   "id": "dc262dff",
   "metadata": {},
   "outputs": [],
   "source": [
    "dani=np.arange(1,366,1).tolist() # generisemo listu od 365 dana iz koje cemo vrsiti slucajne izbore"
   ]
  },
  {
   "cell_type": "code",
   "execution_count": 25,
   "id": "f802c37e",
   "metadata": {},
   "outputs": [],
   "source": [
    "random.seed(123)\n",
    "\n",
    "def simulacija_verovatnoce_rodjendana(broj_ljudi, broj_iteracija):\n",
    "    \n",
    "    count_isti_datum = 0\n",
    "    for i in range(broj_iteracija):\n",
    "        rodjendani = [0]*broj_ljudi\n",
    "        for covek in range(0,broj_ljudi):\n",
    "            rodjendani[covek] = random.choice(dani) # u listu appendujemo nasumicno generisani rodjendan za svakog coveka\n",
    "        if len(set(rodjendani)) < len(rodjendani):  # proveravamo da li su izvucena barem dva ista rodjendana (tj. isti dani)\n",
    "            count_isti_datum+=1\n",
    "#     print(f'% rodjendana istog datuma, za {broj_ljudi} coveka :', (count_isti_datum/broj_iteracija)*100, '%')\n",
    "    return (count_isti_datum/broj_iteracija)*100"
   ]
  },
  {
   "cell_type": "code",
   "execution_count": 15,
   "id": "32f0654b",
   "metadata": {},
   "outputs": [
    {
     "name": "stdout",
     "output_type": "stream",
     "text": [
      "% rodjendana istog datuma, za 2 coveka : 0.24 %\n"
     ]
    },
    {
     "data": {
      "text/plain": [
       "0.24"
      ]
     },
     "execution_count": 15,
     "metadata": {},
     "output_type": "execute_result"
    }
   ],
   "source": [
    "#verovatnoca za dvoje ljudi za 100000 iteracija, trebalo bi da tezi teorijskoj verovatnoci\n",
    "simulacija_verovatnoce_rodjendana(2, 10000)"
   ]
  },
  {
   "cell_type": "code",
   "execution_count": 16,
   "id": "702400c5",
   "metadata": {},
   "outputs": [
    {
     "name": "stdout",
     "output_type": "stream",
     "text": [
      "% rodjendana istog datuma, za 3 coveka : 0.7799999999999999 %\n"
     ]
    },
    {
     "data": {
      "text/plain": [
       "0.7799999999999999"
      ]
     },
     "execution_count": 16,
     "metadata": {},
     "output_type": "execute_result"
    }
   ],
   "source": [
    "simulacija_verovatnoce_rodjendana(3, 10000)"
   ]
  },
  {
   "cell_type": "code",
   "execution_count": 28,
   "id": "1603c0fe",
   "metadata": {},
   "outputs": [
    {
     "data": {
      "image/png": "[encoded data removed]",
      "text/plain": [
       "<Figure size 576x576 with 1 Axes>"
      ]
     },
     "metadata": {
      "needs_background": "light"
     },
     "output_type": "display_data"
    }
   ],
   "source": [
    "verovatnoce = []\n",
    "iteracije = np.arange(1,100000,50).tolist()\n",
    "for iter_ in iteracije:\n",
    "    rezultat = simulacija_verovatnoce_rodjendana(2,iter_)\n",
    "    verovatnoce.append(rezultat)\n",
    "        \n",
    "\n",
    "\n",
    "plt.figure(figsize=(8,8))\n",
    "plt.plot(iteracije, verovatnoce)\n",
    "plt.axhline(0.27, label='Teorijska verovatnoca', color='red')\n",
    "plt.xlabel('Broj iteracija')\n",
    "plt.ylabel('Konvergencija verovatnoce ka teorijskoj')\n",
    "plt.legend();"
   ]
  }
 ],
 "metadata": {
  "kernelspec": {
   "display_name": "Python 3",
   "language": "python",
   "name": "python3"
  },
  "language_info": {
   "codemirror_mode": {
    "name": "ipython",
    "version": 3
   },
   "file_extension": ".py",
   "mimetype": "text/x-python",
   "name": "python",
   "nbconvert_exporter": "python",
   "pygments_lexer": "ipython3",
   "version": "3.8.5"
  }
 },
 "nbformat": 4,
 "nbformat_minor": 5
}
